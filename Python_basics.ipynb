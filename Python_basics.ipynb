{
  "nbformat": 4,
  "nbformat_minor": 0,
  "metadata": {
    "colab": {
      "provenance": []
    },
    "kernelspec": {
      "name": "python3",
      "display_name": "Python 3"
    },
    "language_info": {
      "name": "python"
    }
  },
  "cells": [
    {
      "cell_type": "code",
      "execution_count": null,
      "metadata": {
        "id": "muJaUWtCjLgr"
      },
      "outputs": [],
      "source": []
    },
    {
      "cell_type": "markdown",
      "source": [
        "1. What is Python, and why is it popular?\n"
      ],
      "metadata": {
        "id": "Uwq9A9Azj7AG"
      }
    },
    {
      "cell_type": "markdown",
      "source": [
        "1. Easy to Learn and Use: Python has a straightforward and readable syntax, making it beginner-friendly. This is a key reason why it's often recommended as the first programming language for new coders.\n",
        "\n",
        "2. Versatility: Python can be used for a wide range of applications, from web development to data analysis, artificial intelligence, scientific computing, automation, and more. Its broad usage means it's suitable for projects of all sizes.\n",
        "\n",
        "3. Large and Active Community: Python has a vast, supportive community, meaning you can find a wealth of resources, libraries, and frameworks to speed up your development. Libraries like NumPy, Pandas, TensorFlow, and Django make it easier to tackle various tasks.\n",
        "\n",
        "4. Cross-Platform Compatibility: Python can run on most operating systems like Windows, macOS, and Linux, which makes it highly portable.\n",
        "\n",
        "5. Extensive Libraries and Frameworks: Python has a rich ecosystem of libraries and frameworks that save time and effort when developing. Whether you're working with data analysis, machine learning, web apps, or automation, Python has tools that make the work easier.\n",
        "\n",
        "6. Integration Capabilities: Python is great at integrating with other languages and technologies, making it suitable for building complex systems that involve different programming environments.\n",
        "\n",
        "7. Open Source: Python is free and open-source, so it's accessible to everyone, and developers can contribute to its development.\n",
        "\n",
        "8. Used by Big Companies: Many big companies, including Google, Facebook, Netflix, Instagram, and Spotify, use Python for various applications, further cementing its place in the programming world.\n",
        "\n",
        "\n",
        "\n",
        "\n"
      ],
      "metadata": {
        "id": "KnrDA_iOkOyz"
      }
    },
    {
      "cell_type": "markdown",
      "source": [
        "2. What is an interpreter in Python?\n"
      ],
      "metadata": {
        "id": "rO_cvQG4lUA8"
      }
    },
    {
      "cell_type": "markdown",
      "source": [
        "An interpreter in Python is a program that reads and executes Python code line by line. Instead of compiling the entire code into machine language at once (like in languages such as C or Java), Python’s interpreter processes the code directly, translating it into instructions that the computer can execute."
      ],
      "metadata": {
        "id": "86tdDO_6lvR9"
      }
    },
    {
      "cell_type": "markdown",
      "source": [
        "3. What are pre-defined keywords in Python?\n"
      ],
      "metadata": {
        "id": "0pS1gY9Alxg-"
      }
    },
    {
      "cell_type": "markdown",
      "source": [
        "In Python, pre-defined keywords (often called reserved words) are words that have special meaning and functionality within the language. These keywords cannot be used as identifiers (such as variable names, function names, or class names) because they are reserved for defining the structure and behavior of the language"
      ],
      "metadata": {
        "id": "oatNc4OhmObw"
      }
    },
    {
      "cell_type": "markdown",
      "source": [
        "4. Can keywords be used as variable names?\n"
      ],
      "metadata": {
        "id": "AYg3x8nfmVTU"
      }
    },
    {
      "cell_type": "markdown",
      "source": [
        "No, keywords cannot be used as variable names in Python. Keywords are reserved words that have special meanings in the Python language, and they are used to define the structure and syntax of the language. Since they are part of the language's core functionality, Python has reserved them, which means they cannot be used for anything else, including variable names.\n",
        "\n"
      ],
      "metadata": {
        "id": "Aj-RvTc-mpIY"
      }
    },
    {
      "cell_type": "markdown",
      "source": [
        "5. What is mutability in Python?\n"
      ],
      "metadata": {
        "id": "l3fnq7jumqbn"
      }
    },
    {
      "cell_type": "markdown",
      "source": [
        "Mutability in Python refers to whether or not an object can be changed after it has been created. Specifically, it determines whether the values or contents of an object can be modified in place or whether any modification creates a new object."
      ],
      "metadata": {
        "id": "wdNVNtiLm7Uv"
      }
    },
    {
      "cell_type": "markdown",
      "source": [
        "6. Why are lists mutable, but tuples are immutable?\n"
      ],
      "metadata": {
        "id": "tdOapg35m84f"
      }
    },
    {
      "cell_type": "markdown",
      "source": [
        "The difference in mutability between lists and tuples in Python is due to their design and intended use cases. Here's a breakdown of why lists are mutable while tuples are immutable:\n",
        "\n",
        "1. Purpose and Use Cases\n",
        "Lists are designed to represent collections of items that may change. They are meant to hold elements that can be modified, added, or removed over time. For example, if you're working with a collection of items that might change throughout your program (e.g., a list of tasks to do, or a collection of user inputs), lists are ideal.\n",
        "\n",
        "Tuples, on the other hand, are designed to represent fixed collections of items. They are intended to be immutable and are often used to group values that should not change after creation. Tuples are perfect for situations where you want to ensure the integrity of the data and avoid accidental modifications (e.g., coordinates, records, or database entries).\n",
        "\n",
        "2. Memory Efficiency\n",
        "Lists are mutable, which means their size and contents can change during the program's execution. To handle this, lists need additional memory overhead to accommodate changes such as resizing, appending, or removing elements. This flexibility requires a more complex structure to manage the potential for changes.\n",
        "\n",
        "Tuples, being immutable, have a simpler structure. Since their contents can't be modified once created, they can be stored more efficiently in memory. The immutability allows Python to optimize tuples by storing them in a more memory-efficient way compared to lists, which can dynamically grow or shrink.\n",
        "\n",
        "3. Performance Considerations\n",
        "Lists are more flexible but less efficient in terms of memory and performance when dealing with large or frequently changing data. For example, operations that modify a list (like append(), remove(), etc.) can have additional computational overhead since Python must maintain the internal structure of the list.\n",
        "\n",
        "Tuples, because of their immutability, tend to be faster for read-only access. Since Python knows the tuple will not change, it can make optimizations like caching the result of certain operations, making them more efficient when used in situations where the data doesn't change.\n",
        "\n",
        "4. Safety and Data Integrity\n",
        "Tuples' immutability provides safety when working with data that should not be altered. If you want to guarantee that the data won't be modified accidentally, you can use a tuple. This is especially useful when the tuple represents something like a record or a configuration, where accidental modifications could lead to errors.\n",
        "\n",
        "Lists, being mutable, provide flexibility for scenarios where data needs to change. However, this also means that you need to be cautious about inadvertently changing data, especially when you pass lists around in your program.\n",
        "\n",
        "5. Hashability\n",
        "Tuples are hashable (because they are immutable), meaning they can be used as keys in dictionaries or elements in a set. Since the content of a tuple cannot change, Python can safely compute a unique hash value for it, which makes it useful in hash-based collections like dictionaries and sets.\n",
        "\n",
        "Lists are not hashable (because they are mutable), meaning they cannot be used as keys in dictionaries or as elements in sets. If the contents of a list were to change, it could affect its hash value, which would break the behavior of hash-based collections.\n",
        "\n",
        "6. Syntactic Simplicity\n",
        "Lists are represented by square brackets ([]), and since their contents are mutable, their syntax is designed to reflect that flexibility.\n",
        "\n",
        "Tuples are represented by parentheses (()), and their syntax reflects the fact that they are immutable. In fact, the very use of parentheses for tuples implies that their contents are not meant to change.\n",
        "\n",
        "\n",
        "\n"
      ],
      "metadata": {
        "id": "eAvlrNcBnaAC"
      }
    },
    {
      "cell_type": "markdown",
      "source": [
        "7.What is the difference between “==” and “is” operators in Python?\n"
      ],
      "metadata": {
        "id": "TtceExHQnihx"
      }
    },
    {
      "cell_type": "markdown",
      "source": [
        "In Python, the == and is operators are used for comparison, but they serve different purposes:\n",
        "\n",
        "1. == (Equality Operator)\n",
        "The == operator checks if the values of two objects are equal. It compares the contents of the objects.\n",
        "\n",
        "It works by calling the __eq__() method of the objects, which is how Python determines if two objects have the same value."
      ],
      "metadata": {
        "id": "Gk9-vjIcrzhE"
      }
    },
    {
      "cell_type": "code",
      "source": [
        "a = [1, 2, 3]\n",
        "b = [1, 2, 3]\n",
        "\n",
        "print(a == b)  # Output: True (because the values inside the lists are the same)\n"
      ],
      "metadata": {
        "id": "-Pe3N8Rjr8n2"
      },
      "execution_count": null,
      "outputs": []
    },
    {
      "cell_type": "markdown",
      "source": [
        "8. What are logical operators in Python?"
      ],
      "metadata": {
        "id": "ZzOkNbXNsdcD"
      }
    },
    {
      "cell_type": "markdown",
      "source": [
        "In Python, logical operators are used to combine conditional statements and evaluate their truth values. There are three main logical operators:\n",
        "\n",
        "1. and (Logical AND)\n",
        "The and operator returns True if both operands are True. If either operand is False, the result will be False."
      ],
      "metadata": {
        "id": "WswauZJOsjOC"
      }
    },
    {
      "cell_type": "code",
      "source": [
        "a = True\n",
        "b = False\n",
        "print(a and b)  # Output: False (because one operand is False)\n"
      ],
      "metadata": {
        "id": "X-VInkh4supP"
      },
      "execution_count": null,
      "outputs": []
    },
    {
      "cell_type": "markdown",
      "source": [
        "2. or (Logical OR)\n",
        "The or operator returns True if at least one of the operands is True. If both operands are False, the result will be False.\n",
        "\n"
      ],
      "metadata": {
        "id": "sGF5Z8wesx9B"
      }
    },
    {
      "cell_type": "code",
      "source": [
        "a = True\n",
        "b = False\n",
        "print(a or b)  # Output: True (because one operand is True)\n"
      ],
      "metadata": {
        "id": "0U59dUWNs6bq"
      },
      "execution_count": null,
      "outputs": []
    },
    {
      "cell_type": "markdown",
      "source": [
        "3. not (Logical NOT)\n",
        "The not operator negates the boolean value of the operand. If the operand is True, it returns False, and if the operand is False, it returns True.\n",
        "\n"
      ],
      "metadata": {
        "id": "0JLHEzfms9X2"
      }
    },
    {
      "cell_type": "code",
      "source": [
        "a = True\n",
        "print(not a)  # Output: False (because 'a' is True and 'not' negates it)\n"
      ],
      "metadata": {
        "id": "V-eSXFFWtErT"
      },
      "execution_count": null,
      "outputs": []
    },
    {
      "cell_type": "markdown",
      "source": [
        "9. What is type casting in Python?"
      ],
      "metadata": {
        "id": "ja4vD1BktKBF"
      }
    },
    {
      "cell_type": "markdown",
      "source": [
        "Type casting in Python refers to the process of converting a variable from one data type to another. It allows you to explicitly change the type of a variable so it can be used in operations that require a specific data type. In Python, type casting can be either implicit or explicit.\n",
        "\n",
        "1. Implicit Type Casting (Automatic Type Conversion):\n",
        "Python automatically converts one data type to another when it makes sense. For example, when you perform arithmetic operations involving an integer and a float, Python will automatically convert the integer to a float before performing the operation."
      ],
      "metadata": {
        "id": "_5f9uNGitbV3"
      }
    },
    {
      "cell_type": "code",
      "source": [
        "x = 5    # int\n",
        "y = 3.2  # float\n",
        "result = x + y  # Python automatically converts x to float\n",
        "print(result)  # Output: 8.2 (float)\n"
      ],
      "metadata": {
        "id": "l4LhhtNktl6R"
      },
      "execution_count": null,
      "outputs": []
    },
    {
      "cell_type": "markdown",
      "source": [
        "2. Explicit Type Casting (Manual Type Conversion):\n",
        "In explicit type casting, you manually convert a variable to a different data type using the built-in functions.\n",
        "\n",
        "Common type casting functions:\n",
        "int(): Converts a value to an integer.\n",
        "\n",
        "float(): Converts a value to a floating-point number.\n",
        "\n",
        "str(): Converts a value to a string.\n",
        "\n",
        "list(): Converts a value to a list.\n",
        "\n",
        "tuple(): Converts a value to a tuple.\n",
        "\n",
        "Examples of Explicit Type Casting"
      ],
      "metadata": {
        "id": "D14H82P4trM_"
      }
    },
    {
      "cell_type": "code",
      "source": [
        "x = 3.14\n",
        "y = int(x)  # Converts float to int (removes decimal part)\n",
        "print(y)  # Output: 3\n"
      ],
      "metadata": {
        "id": "RsEXiTBNuAR_"
      },
      "execution_count": null,
      "outputs": []
    },
    {
      "cell_type": "code",
      "source": [
        "x = \"5.67\"\n",
        "y = float(x)  # Converts string to float\n",
        "print(y)  # Output: 5.67\n"
      ],
      "metadata": {
        "id": "gG0L2duauDRI"
      },
      "execution_count": null,
      "outputs": []
    },
    {
      "cell_type": "code",
      "source": [
        "x = 123\n",
        "y = str(x)  # Converts integer to string\n",
        "print(y)  # Output: '123'\n"
      ],
      "metadata": {
        "id": "pIeN-IokuGRC"
      },
      "execution_count": null,
      "outputs": []
    },
    {
      "cell_type": "code",
      "source": [
        "x = \"hello\"\n",
        "y = list(x)  # Converts string to list of characters\n",
        "print(y)  # Output: ['h', 'e', 'l', 'l', 'o']\n"
      ],
      "metadata": {
        "id": "qtlg-TEiuIwx"
      },
      "execution_count": null,
      "outputs": []
    },
    {
      "cell_type": "code",
      "source": [
        "x = [1, 2, 3]\n",
        "y = tuple(x)  # Converts list to tuple\n",
        "print(y)  # Output: (1, 2, 3)\n"
      ],
      "metadata": {
        "id": "ANxNu21UuMw8"
      },
      "execution_count": null,
      "outputs": []
    },
    {
      "cell_type": "markdown",
      "source": [
        "10. What is the difference between implicit and explicit type casting?"
      ],
      "metadata": {
        "id": "wcUjZr-iuRK9"
      }
    },
    {
      "cell_type": "markdown",
      "source": [
        "The difference between implicit and explicit type casting lies in how the conversion between data types is performed:\n",
        "\n",
        "1. Implicit Type Casting (Automatic Type Conversion):\n",
        "Definition: Implicit type casting occurs automatically when Python internally converts one data type to another without requiring the programmer's explicit instruction.\n",
        "\n",
        "When it happens: This type of casting happens when Python determines that one type can be safely converted to another without losing information. For example, when performing arithmetic operations between compatible data types (like an integer and a float), Python will automatically convert the integer to a float.\n",
        "\n",
        "Risk: There is typically no risk of data loss in implicit type casting because it happens when it’s safe to do so."
      ],
      "metadata": {
        "id": "itJfTGbDumAB"
      }
    },
    {
      "cell_type": "code",
      "source": [
        "x = 10        # int\n",
        "y = 3.5       # float\n",
        "result = x + y  # x is automatically converted to float\n",
        "print(result)   # Output: 13.5 (float)\n"
      ],
      "metadata": {
        "id": "foGBSM5Hus90"
      },
      "execution_count": null,
      "outputs": []
    },
    {
      "cell_type": "markdown",
      "source": [
        "2. Explicit Type Casting (Manual Type Conversion):\n",
        "Definition: Explicit type casting is when you, the programmer, manually convert one data type to another using built-in functions like int(), float(), str(), etc.\n",
        "\n",
        "When it happens: You explicitly tell Python to perform a conversion, typically when you need to force a variable to a different type.\n",
        "\n",
        "Risk: Explicit casting can result in data loss (such as truncating decimals or losing information) if the conversion is not appropriate. For example, converting a string that contains non-numeric characters to an integer would raise an error."
      ],
      "metadata": {
        "id": "RUVf5xN-ut9S"
      }
    },
    {
      "cell_type": "code",
      "source": [
        "x = 10.7      # float\n",
        "y = int(x)    # explicitly convert float to int\n",
        "print(y)      # Output: 10 (decimal part is discarded)\n"
      ],
      "metadata": {
        "id": "E_Xb2ZTuu1wV"
      },
      "execution_count": null,
      "outputs": []
    },
    {
      "cell_type": "markdown",
      "source": [
        "11. What is the purpose of conditional statements in Python?\n"
      ],
      "metadata": {
        "id": "vrNdVNO7u2jJ"
      }
    },
    {
      "cell_type": "markdown",
      "source": [
        "Conditional statements in Python allow you to control the flow of execution in your program based on certain conditions. They are used to make decisions, enabling your program to take different actions depending on whether a condition is True or False.\n",
        "\n",
        "The Purpose of Conditional Statements:\n",
        "Decision-making: Conditional statements help your program decide which code block to execute based on a condition (or set of conditions).\n",
        "\n",
        "Control Flow: They allow you to control the flow of your program and handle various cases, such as when something is true, false, or when multiple conditions must be met.\n",
        "\n",
        "Branching: They provide different branches of execution, making your program more flexible and able to handle a variety of scenarios.\n",
        "\n",
        "Types of Conditional Statements in Python:\n",
        "if statement:Executes a block of code if the condition is True.\n",
        "\n",
        "If the condition is False, the code inside the if block is skipped.\n",
        "\n"
      ],
      "metadata": {
        "id": "HN3_i7G0u_4L"
      }
    },
    {
      "cell_type": "code",
      "source": [
        "x = 5\n",
        "if x > 3:\n",
        "    print(\"x is greater than 3\")  # This will be printed\n"
      ],
      "metadata": {
        "id": "VXTLRGScvn7r"
      },
      "execution_count": null,
      "outputs": []
    },
    {
      "cell_type": "markdown",
      "source": [
        "else statement:\n",
        "\n",
        "Executes a block of code if the condition in the if statement is False.\n",
        "\n",
        "This is a fallback option after the if condition is checked.\n",
        "\n"
      ],
      "metadata": {
        "id": "CsZqWEwOvr4r"
      }
    },
    {
      "cell_type": "code",
      "source": [
        "\n",
        "x = 2\n",
        "if x > 3:\n",
        "    print(\"x is greater than 3\")\n",
        "else:\n",
        "    print(\"x is less than or equal to 3\")  # This will be printed\n"
      ],
      "metadata": {
        "id": "ArhrDzW0v3D2"
      },
      "execution_count": null,
      "outputs": []
    },
    {
      "cell_type": "markdown",
      "source": [
        "12.How does the elif statement work?"
      ],
      "metadata": {
        "id": "MOQTmfzswA8K"
      }
    },
    {
      "cell_type": "markdown",
      "source": [
        "The elif (short for \"else if\") statement in Python is used to check multiple conditions in sequence after an initial if statement. It allows you to test additional conditions if the original if condition evaluates to False. You can think of it as a chain of conditions, where Python checks each condition in order until one of them is True or it reaches the else block (if provided).\n",
        "\n",
        "How the elif Statement Works:\n",
        "Initial if check: The program first checks the condition specified in the if statement.\n",
        "\n",
        "elif checks: If the if condition is False, the program checks the condition in the elif statement(s). You can have multiple elif statements to check several conditions in sequence.\n",
        "\n",
        "Execution flow: The first elif statement that evaluates to True will execute its corresponding block of code.\n",
        "\n",
        "else (optional): If none of the if or elif conditions are True, and if an else block is provided, the code inside the else block will execute."
      ],
      "metadata": {
        "id": "4TEEU6GbwYBL"
      }
    },
    {
      "cell_type": "code",
      "source": [
        "if condition1:\n",
        "    # code block for condition1 being True\n",
        "elif condition2:\n",
        "    # code block for condition2 being True\n",
        "elif condition3:\n",
        "    # code block for condition3 being True\n",
        "else:\n",
        "    # code block if none of the conditions above are True\n"
      ],
      "metadata": {
        "id": "QUh5uXEowdZu"
      },
      "execution_count": null,
      "outputs": []
    },
    {
      "cell_type": "markdown",
      "source": [
        "13. What is the difference between for and while loops?\n"
      ],
      "metadata": {
        "id": "MmktwuVowhO9"
      }
    },
    {
      "cell_type": "markdown",
      "source": [
        "In Python, both for and while loops are used to repeatedly execute a block of code, but they differ in how they control the repetition.\n",
        "\n",
        "1. for loop:\n",
        "Definition: The for loop is used to iterate over a sequence (like a list, tuple, string, or range) and execute a block of code for each element in the sequence.\n",
        "\n",
        "Use case: Typically used when you know the number of iterations or when you want to iterate over a collection (e.g., list, string, or range)"
      ],
      "metadata": {
        "id": "I4fV20omwz3e"
      }
    },
    {
      "cell_type": "code",
      "source": [
        "for item in sequence:\n",
        "    # code block\n"
      ],
      "metadata": {
        "id": "NbHv4ohow93W"
      },
      "execution_count": null,
      "outputs": []
    },
    {
      "cell_type": "markdown",
      "source": [
        "item: A variable that takes the value of each element in the sequence for each iteration.\n",
        "\n",
        "sequence: Can be a list, tuple, string, range, etc.\n",
        "\n",
        "Example:"
      ],
      "metadata": {
        "id": "oqF5Hj69xIYi"
      }
    },
    {
      "cell_type": "code",
      "source": [
        "# Example: Iterating over a list of numbers\n",
        "numbers = [1, 2, 3, 4, 5]\n",
        "for number in numbers:\n",
        "    print(number)\n"
      ],
      "metadata": {
        "id": "5u7gCEA8xJXE"
      },
      "execution_count": null,
      "outputs": []
    },
    {
      "cell_type": "code",
      "source": [
        "1\n",
        "2\n",
        "3\n",
        "4\n",
        "5\n"
      ],
      "metadata": {
        "id": "jxksNazxxQ1t"
      },
      "execution_count": null,
      "outputs": []
    },
    {
      "cell_type": "code",
      "source": [
        "while condition:\n",
        "    # code block\n"
      ],
      "metadata": {
        "id": "EYsUwSPAxRGp"
      },
      "execution_count": null,
      "outputs": []
    },
    {
      "cell_type": "code",
      "source": [
        "# Example: Counting down from 5\n",
        "count = 5\n",
        "while count > 0:\n",
        "    print(count)\n",
        "    count -= 1\n"
      ],
      "metadata": {
        "id": "OYHHI6cNxRKS"
      },
      "execution_count": null,
      "outputs": []
    },
    {
      "cell_type": "markdown",
      "source": [
        "14. Describe a scenario where a while loop is more suitable than a for loop."
      ],
      "metadata": {
        "id": "JC1PerZzxpAV"
      }
    },
    {
      "cell_type": "markdown",
      "source": [
        "A while loop is more suitable than a for loop in scenarios where you do not know in advance how many iterations are required, but you want the loop to continue as long as a certain condition holds true. Essentially, if the number of iterations depends on a dynamic condition that could change during the loop execution, a while loop is often the better choice.\n",
        "\n",
        "Example Scenario: Waiting for User Input\n",
        "Imagine you want to prompt the user for a valid password. You don’t know how many attempts the user will need to enter the correct password, so a while loop is ideal because the loop should continue running as long as the password is incorrect.\n",
        "\n",
        "Scenario Description:\n",
        "You want to repeatedly ask the user to enter a password until they provide the correct one. If the user enters the wrong password, the program will keep asking for it. If the user enters the correct password, the loop stops."
      ],
      "metadata": {
        "id": "QACHUuCrx4dm"
      }
    },
    {
      "cell_type": "code",
      "source": [
        "correct_password = \"secret123\"\n",
        "user_password = \"\"\n",
        "\n",
        "# Use while loop to continue asking for password until it's correct\n",
        "while user_password != correct_password:\n",
        "    user_password = input(\"Enter the password: \")\n",
        "    if user_password != correct_password:\n",
        "        print(\"Incorrect password, try again.\")\n",
        "\n",
        "print(\"Access granted!\")\n"
      ],
      "metadata": {
        "id": "7WhexOs3x5Nx"
      },
      "execution_count": null,
      "outputs": []
    },
    {
      "cell_type": "markdown",
      "source": [
        "1. Write a Python program to print \"Hello, World!\"\n"
      ],
      "metadata": {
        "id": "uHH_soi4x_Ue"
      }
    },
    {
      "cell_type": "code",
      "source": [
        "print(\"Hello, World!\")\n"
      ],
      "metadata": {
        "id": "nvXMa40lycOt"
      },
      "execution_count": null,
      "outputs": []
    },
    {
      "cell_type": "code",
      "source": [
        "Hello, World!\n"
      ],
      "metadata": {
        "id": "i3klRYY7ygXP"
      },
      "execution_count": null,
      "outputs": []
    },
    {
      "cell_type": "markdown",
      "source": [
        "2. Write a Python program that displays your name and age.\n"
      ],
      "metadata": {
        "id": "LOFpd5CpynE5"
      }
    },
    {
      "cell_type": "code",
      "source": [
        "# Define variables\n",
        "name = \"John Doe\"  # Replace with your name\n",
        "age = 25  # Replace with your age\n",
        "\n",
        "# Display name and age\n",
        "print(\"Name:\", name)\n",
        "print(\"Age:\", age)\n"
      ],
      "metadata": {
        "id": "wFXchvU8y04n"
      },
      "execution_count": null,
      "outputs": []
    },
    {
      "cell_type": "markdown",
      "source": [
        "3. Write code to print all the pre-defined keywords in Python using the keyword library.\n"
      ],
      "metadata": {
        "id": "uQqOn0yIy5BK"
      }
    },
    {
      "cell_type": "code",
      "source": [
        "import keyword\n",
        "\n",
        "# Get and print all the keywords in Python\n",
        "print(\"Python Keywords:\")\n",
        "print(keyword.kwlist)\n"
      ],
      "metadata": {
        "id": "vimAt1_9zL7E"
      },
      "execution_count": null,
      "outputs": []
    },
    {
      "cell_type": "markdown",
      "source": [
        "4.Write a program that checks if a given word is a Python keyword.\n"
      ],
      "metadata": {
        "id": "naxK_6Z-zMye"
      }
    },
    {
      "cell_type": "code",
      "source": [
        "import keyword\n",
        "\n",
        "def check_keyword(word):\n",
        "    if keyword.iskeyword(word):\n",
        "        return True\n",
        "    else:\n",
        "        return False\n",
        "\n",
        "# Example usage\n",
        "word = input(\"Enter a word to check if it's a Python keyword: \")\n",
        "\n",
        "if check_keyword(word):\n",
        "    print(f\"'{word}' is a Python keyword.\")\n",
        "else:\n",
        "    print(f\"'{word}' is not a Python keyword.\")\n"
      ],
      "metadata": {
        "id": "SfBydleWzr_S"
      },
      "execution_count": null,
      "outputs": []
    },
    {
      "cell_type": "markdown",
      "source": [
        "5. Create a list and tuple in Python, and demonstrate how attempting to change an element works differenlty for each."
      ],
      "metadata": {
        "id": "v2C6UBvGzuDX"
      }
    },
    {
      "cell_type": "code",
      "source": [
        "# Creating a list and a tuple\n",
        "my_list = [1, 2, 3, 4]\n",
        "my_tuple = (1, 2, 3, 4)\n",
        "\n",
        "# Attempt to change an element in the list\n",
        "print(\"Original list:\", my_list)\n",
        "my_list[2] = 99  # Changing the third element of the list\n",
        "print(\"List after modification:\", my_list)\n",
        "\n",
        "# Attempt to change an element in the tuple\n",
        "print(\"Original tuple:\", my_tuple)\n",
        "try:\n",
        "    my_tuple[2] = 99  # Trying to change the third element of the tuple\n",
        "except TypeError as e:\n",
        "    print(f\"Error: {e}\")\n"
      ],
      "metadata": {
        "id": "umtVjk380C5x"
      },
      "execution_count": null,
      "outputs": []
    },
    {
      "cell_type": "markdown",
      "source": [
        "\n",
        "6. Write a function to demonstrate the behavior of mutable and immutable argument.\n"
      ],
      "metadata": {
        "id": "UnjeTwWG0EBF"
      }
    },
    {
      "cell_type": "markdown",
      "source": [
        "In Python, mutable objects (like lists and dictionaries) can be modified within a function, while immutable objects (like integers, strings, and tuples) cannot. Here's a function that demonstrates the behavior of mutable and immutable arguments:"
      ],
      "metadata": {
        "id": "NvquZKfh0254"
      }
    },
    {
      "cell_type": "code",
      "source": [
        "def demonstrate_mutable_immutable(mutable_arg, immutable_arg):\n",
        "    print(\"Before modification:\")\n",
        "    print(f\"Mutable argument (list): {mutable_arg}\")\n",
        "    print(f\"Immutable argument (int): {immutable_arg}\")\n",
        "\n",
        "    # Modifying the mutable argument (list)\n",
        "    mutable_arg.append(100)\n",
        "\n",
        "    # Modifying the immutable argument (int)\n",
        "    immutable_arg += 10\n",
        "\n",
        "    print(\"\\nAfter modification:\")\n",
        "    print(f\"Mutable argument (list): {mutable_arg}\")\n",
        "    print(f\"Immutable argument (int): {immutable_arg}\")\n",
        "\n",
        "# Example usage\n",
        "mutable_list = [1, 2, 3]\n",
        "immutable_number = 5\n",
        "\n",
        "demonstrate_mutable_immutable(mutable_list, immutable_number)\n",
        "\n",
        "# Output the variables after function call\n",
        "print(\"\\nOutside the function:\")\n",
        "print(f\"Mutable list: {mutable_list}\")\n",
        "print(f\"Immutable number: {immutable_number}\")\n"
      ],
      "metadata": {
        "id": "gzo0wkpx1CDw"
      },
      "execution_count": null,
      "outputs": []
    },
    {
      "cell_type": "markdown",
      "source": [
        "7. Write a function to demonstrate the behavior of mutable and immutable arguments?\n"
      ],
      "metadata": {
        "id": "ZdqiYnl41EhA"
      }
    },
    {
      "cell_type": "code",
      "source": [
        "def demonstrate_mutable_immutable(mutable_arg, immutable_arg):\n",
        "    print(\"Before modification:\")\n",
        "    print(f\"Mutable argument (list): {mutable_arg}\")\n",
        "    print(f\"Immutable argument (int): {immutable_arg}\")\n",
        "\n",
        "    # Modifying the mutable argument (list)\n",
        "    mutable_arg.append(100)\n",
        "\n",
        "    # Modifying the immutable argument (int)\n",
        "    immutable_arg += 10\n",
        "\n",
        "    print(\"\\nAfter modification:\")\n",
        "    print(f\"Mutable argument (list): {mutable_arg}\")\n",
        "    print(f\"Immutable argument (int): {immutable_arg}\")\n",
        "\n",
        "# Example usage\n",
        "mutable_list = [1, 2, 3]\n",
        "immutable_number = 5\n",
        "\n",
        "# Call the function\n",
        "demonstrate_mutable_immutable(mutable_list, immutable_number)\n",
        "\n",
        "#\n"
      ],
      "metadata": {
        "id": "bWAOSLIp1LsH"
      },
      "execution_count": null,
      "outputs": []
    },
    {
      "cell_type": "markdown",
      "source": [
        "8. Write a program to demonstrate the use of logical operators.\n"
      ],
      "metadata": {
        "id": "keXeEzbr1Tfl"
      }
    },
    {
      "cell_type": "code",
      "source": [
        "def demonstrate_logical_operators(a, b):\n",
        "    print(f\"Values: a = {a}, b = {b}\")\n",
        "\n",
        "    # Using 'and' logical operator\n",
        "    if a > 0 and b > 0:\n",
        "        print(\"Both 'a' and 'b' are positive numbers.\")\n",
        "    else:\n",
        "        print(\"Either 'a' or 'b' is not positive.\")\n",
        "\n",
        "    # Using 'or' logical operator\n",
        "    if a > 0 or b > 0:\n",
        "        print(\"At least one of 'a' or 'b' is positive.\")\n",
        "    else:\n",
        "        print(\"Neither 'a' nor 'b' is positive.\")\n",
        "\n",
        "    # Using 'not' logical operator\n",
        "    if not (a > 0):\n",
        "        print(\"'a' is not a positive number.\")\n",
        "    if not (b > 0):\n",
        "        print(\"'b' is not a positive number.\")\n",
        "\n",
        "# Example usage\n",
        "a = 5\n",
        "b = -3\n",
        "demonstrate_logical_operators(a, b)\n",
        "\n",
        "# Another example with different values\n",
        "a = -1\n",
        "b = 10\n",
        "demonstrate_logical_operators(a, b)\n"
      ],
      "metadata": {
        "id": "azO_-P_C1lnM"
      },
      "execution_count": null,
      "outputs": []
    },
    {
      "cell_type": "markdown",
      "source": [
        "9. Write a Python program to convert user input from string to integer, float, and boolean types?\n"
      ],
      "metadata": {
        "id": "H1SNuRPd1nUZ"
      }
    },
    {
      "cell_type": "code",
      "source": [
        "def convert_input():\n",
        "    # Taking user input as a string\n",
        "    user_input = input(\"Enter a value: \")\n",
        "\n",
        "    # Convert string to integer\n",
        "    try:\n",
        "        int_value = int(user_input)\n",
        "        print(f\"Converted to integer: {int_value}\")\n",
        "    except ValueError:\n",
        "        print(\"Cannot convert to integer.\")\n",
        "\n",
        "    # Convert string to float\n",
        "    try:\n",
        "        float_value = float(user_input)\n",
        "        print(f\"Converted to float: {float_value}\")\n",
        "    except ValueError:\n",
        "        print(\"Cannot convert to float.\")\n",
        "\n",
        "    # Convert string to boolean\n",
        "    if user_input.lower() == \"true\":\n",
        "        bool_value = True\n",
        "        print(f\"Converted to boolean: {bool_value}\")\n",
        "    elif user_input.lower() == \"false\":\n",
        "        bool_value = False\n",
        "        print(f\"Converted to boolean: {bool_value}\")\n",
        "    else:\n",
        "        # Any non \"true\"/\"false\" input is considered as False for boolean conversion\n",
        "        print(f\"Cannot directly convert '{user_input}' to boolean. Assuming False.\")\n",
        "\n",
        "# Example usage\n",
        "convert_input()\n"
      ],
      "metadata": {
        "id": "pfNzxWQE10wf"
      },
      "execution_count": null,
      "outputs": []
    },
    {
      "cell_type": "markdown",
      "source": [
        "10. Write code to demonstrate type casting with list elements.\n"
      ],
      "metadata": {
        "id": "X7gI3eaF15iL"
      }
    },
    {
      "cell_type": "code",
      "source": [
        "def type_cast_list_elements():\n",
        "    # Sample list with mixed data types (strings representing numbers)\n",
        "    mixed_list = [\"10\", \"20.5\", \"True\", \"3\", \"False\"]\n",
        "\n",
        "    print(\"Original list:\", mixed_list)\n",
        "\n",
        "    # Convert all elements to integers\n",
        "    int_list = [int(item) if item.replace('.', '', 1).isdigit() else 0 for item in mixed_list]\n",
        "    print(\"\\nList after converting to integers:\", int_list)\n",
        "\n",
        "    # Convert all elements to floats\n",
        "    float_list = [float(item) if item.replace('.', '', 1).isdigit() else 0.0 for item in mixed_list]\n",
        "    print(\"\\nList after converting to floats:\", float_list)\n",
        "\n",
        "    # Convert all elements to booleans\n",
        "    bool_list = [item.lower() == \"true\" if isinstance(item, str) else bool(item) for item in mixed_list]\n",
        "    print(\"\\nList after converting to booleans:\", bool_list)\n",
        "\n",
        "# Example usage\n",
        "type_cast_list_elements()\n"
      ],
      "metadata": {
        "id": "htQeh9yn2LPh"
      },
      "execution_count": null,
      "outputs": []
    },
    {
      "cell_type": "markdown",
      "source": [
        "11. Write a program that checks if a number is positive, negative, or zero.\n"
      ],
      "metadata": {
        "id": "glAnF1HC2NEs"
      }
    },
    {
      "cell_type": "code",
      "source": [
        "def check_number():\n",
        "    # Take user input\n",
        "    num = float(input(\"Enter a number: \"))\n",
        "\n",
        "    # Check if the number is positive, negative, or zero\n",
        "    if num > 0:\n",
        "        print(f\"The number {num} is positive.\")\n",
        "    elif num < 0:\n",
        "        print(f\"The number {num} is negative.\")\n",
        "    else:\n",
        "        print(f\"The number {num} is zero.\")\n",
        "\n",
        "# Call the function to check the number\n",
        "check_number()\n"
      ],
      "metadata": {
        "id": "_oyUQLLj25gQ"
      },
      "execution_count": null,
      "outputs": []
    },
    {
      "cell_type": "markdown",
      "source": [
        "12.  Write a for loop to print numbers from 1 to 10.\n"
      ],
      "metadata": {
        "id": "Ax5zC4Hv29WU"
      }
    },
    {
      "cell_type": "code",
      "source": [
        "# Using a for loop to print numbers from 1 to 10\n",
        "for number in range(1, 11):\n",
        "    print(number)\n"
      ],
      "metadata": {
        "id": "FwFR-M_93Pi4"
      },
      "execution_count": null,
      "outputs": []
    },
    {
      "cell_type": "markdown",
      "source": [
        "13. Write a Python program to find the sum of all even numbers between 1 and 50.\n"
      ],
      "metadata": {
        "id": "tvquO9yX3Q3m"
      }
    },
    {
      "cell_type": "code",
      "source": [
        "# Initialize the sum to 0\n",
        "sum_even_numbers = 0\n",
        "\n",
        "# Iterate through numbers from 1 to 50\n",
        "for num in range(1, 51):\n",
        "    if num % 2 == 0:  # Check if the number is even\n",
        "        sum_even_numbers += num  # Add the even number to the sum\n",
        "\n",
        "# Print the result\n",
        "print(f\"The sum of all even numbers between 1 and 50 is: {sum_even_numbers}\")\n"
      ],
      "metadata": {
        "id": "CVOfqRv13gPa"
      },
      "execution_count": null,
      "outputs": []
    },
    {
      "cell_type": "markdown",
      "source": [
        "14. Write a program to reverse a string using a while loop.\n"
      ],
      "metadata": {
        "id": "QdbKYskX3hMZ"
      }
    },
    {
      "cell_type": "code",
      "source": [
        "def reverse_string(input_string):\n",
        "    # Initialize variables\n",
        "    reversed_string = \"\"\n",
        "    index = len(input_string) - 1  # Set the index to the last character of the string\n",
        "\n",
        "    # Use a while loop to iterate through the string in reverse order\n",
        "    while index >= 0:\n",
        "        reversed_string += input_string[index]  # Append the character to the reversed string\n",
        "        index -= 1  # Move to the previous character\n",
        "\n",
        "    return reversed_string\n",
        "\n",
        "# Example usage\n",
        "user_input = input(\"Enter a string to reverse: \")\n",
        "reversed_str = reverse_string(user_input)\n",
        "print(\"Reversed string:\", reversed_str)\n"
      ],
      "metadata": {
        "id": "vyKyqnvF3uyV"
      },
      "execution_count": null,
      "outputs": []
    },
    {
      "cell_type": "markdown",
      "source": [
        "15. Write a Python program to calculate the factorial of a number provided by the user using a while loop.\n"
      ],
      "metadata": {
        "id": "GHn4EzbN34Gw"
      }
    },
    {
      "cell_type": "code",
      "source": [
        "def calculate_factorial():\n",
        "    # Take user input for the number\n",
        "    num = int(input(\"Enter a number to calculate its factorial: \"))\n",
        "\n",
        "    # Initialize the factorial variable\n",
        "    factorial = 1\n",
        "\n",
        "    # Handle the case where the number is negative\n",
        "    if num < 0:\n",
        "        print(\"Factorial is not defined for negative numbers.\")\n",
        "        return\n",
        "\n",
        "    # Use a while loop to calculate the factorial\n",
        "    i = 1\n",
        "    while i <= num:\n",
        "        factorial *= i  # Multiply factorial by the current value of i\n",
        "        i += 1  # Increment i to move to the next number\n",
        "\n",
        "    # Output the result\n",
        "    print(f\"The factorial of {num} is {factorial}\")\n",
        "\n",
        "# Example usage\n",
        "calculate_factorial()\n"
      ],
      "metadata": {
        "id": "jaq7RWUP4JX5"
      },
      "execution_count": null,
      "outputs": []
    }
  ]
}